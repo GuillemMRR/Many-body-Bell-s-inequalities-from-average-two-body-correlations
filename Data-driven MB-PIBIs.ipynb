{
 "cells": [
  {
   "cell_type": "markdown",
   "metadata": {},
   "source": [
    "# Many-body Bell’s inequalities from averaged two-body correlations"
   ]
  },
  {
   "cell_type": "markdown",
   "metadata": {},
   "source": [
    "Supplementary material for Guillem Müller-Rigat, Albert Aloy, Maciej Lewenstein, Irénée Frérot [arXiv:2012.08474 ](https://arxiv.org/abs/2012.08474). In this notebook we provide a python implementation of the data-driven permutationally-invariant Bell's inequality (PIBI) algorithm with several illustrative examples. The convex-optimization package [cvxpy](https://www.cvxpy.org/install/index.html) is required. "
   ]
  },
  {
   "cell_type": "code",
   "execution_count": 1,
   "metadata": {},
   "outputs": [],
   "source": [
    "import cvxpy as cp\n",
    "import numpy as np\n",
    "import matplotlib.pyplot as plt\n",
    "from itertools import product \n",
    "from scipy.optimize import minimize, root_scalar\n",
    "from scipy.spatial import Delaunay, ConvexHull\n",
    "from scipy.stats import ortho_group\n",
    "import random"
   ]
  },
  {
   "cell_type": "markdown",
   "metadata": {},
   "source": [
    "**Scenario and correlations.** We consider the Bell scenario with $N$ spatially separated observers which perform $q$ distinct $d$-outcome measurments on their parts of a shared state. Our algorithm builds from the partial knowledege of averaged one body and two body correlations\n",
    "\n",
    "$$m_a=\\frac{1}{N}\\sum_{i=1}^N\\langle f(\\mathcal{M}_a^{(i)})\\rangle \\ , C_{ab}=\\frac{1}{N}\\sum_{i\\neq j}\\langle \\mathcal{M}_a^{(i)}\\mathcal{M}_b^{(j)}\\rangle \\ \\ \\forall a,b\\in S \\subset \\{0,1,..,q-1\\}\\ ,$$\n",
    "\n",
    "where  $\\mathcal{M}_a^{(i)}$ is a $d$-outcome measurement in the ith party with outcomes labeling chosen conventionally $\\{-s,-s+1,..,s\\}$ with $s=(d-1)/2$. And $\\langle \\rangle $ dentotes the corresponding expectation value in the shared state. The size of $S$ is $k$, $|S|=k$. $f$ is a function. \n",
    "\n",
    "**Note**: In the paper, we used a different convention where the quantities are defined without the $1/N$ prefactor; this convention is however arbitrary. "
   ]
  },
  {
   "cell_type": "markdown",
   "metadata": {},
   "source": [
    "In Examples (section 2) a) we will consider correlations data from **spin singlets** with $f(\\mathcal{M})=\\mathcal{M}^2$ ($p=2$) and in b) from **spin-squeezed states**, with $f(\\mathcal{M})=\\mathcal{M}$ ($p=1$). Since our method only relies on up to two-body correlations we only require compatibility of these two classes of states at one-body and two-body reduced density matrices level. "
   ]
  },
  {
   "cell_type": "markdown",
   "metadata": {},
   "source": [
    "## 1. Outline of the convex optimization algorithm to find a Bell's inequality violated by the input data"
   ]
  },
  {
   "cell_type": "markdown",
   "metadata": {},
   "source": [
    "Given the statistics $\\{C_{ab},m_{b}\\}$ we construct the following (cost) function:\n",
    "\n",
    "$$L(\\hat{A},\\mathbf{h})=tr(\\hat{A}\\hat{\\tilde{C}})+\\mathbf{h}\\cdot\\mathbf{m}+E_{max}(\\hat{A},\\mathbf{h}) \\ ,$$ \n",
    "\n",
    "where $\\hat{A}$ is a symmetric, semidefinite matrix with real entries, $\\hat{\\tilde{C}}$ is the correlation matrix with components $\\tilde{C}_{ab}=C_{ab}-m_am_b$, $\\mathbf{h}$ is a vector with real components and $\\mathbf{m}$ is a vector with components $m_a$. The dimensions of $\\{\\hat{A}, \\mathbf{h}\\}$ are given from the size of $S$. The function $E_{max}$ is \n",
    "\n",
    "$$E_{max}(\\hat{A},\\mathbf{h})=\\max_\\boldsymbol{\\sigma} (\\boldsymbol{\\sigma}^T\\hat{A}\\boldsymbol{\\sigma}-\\mathbf{h}\\cdot f(\\boldsymbol{\\sigma}))\\le\\log(Z(\\hat{A},\\mathbf{h})) \\ ,$$ \n",
    "\n",
    "where $\\boldsymbol{\\sigma}$ is a vector with values $\\{-s,-s+1,..,s\\}$ with the same dimension as $\\mathbf{h}$. And $Z(\\hat{A},\\mathbf{h})=\\sum_{\\{\\boldsymbol{\\sigma}\\}}e^{E(\\hat{A},\\mathbf{h})_\\boldsymbol{\\sigma}}$ is the partition function."
   ]
  },
  {
   "cell_type": "code",
   "execution_count": 2,
   "metadata": {},
   "outputs": [],
   "source": [
    "#We compute E_max by ennumerating the configurations.  \n",
    "\n",
    "def create_configs(k,s):\n",
    "    sigma=np.array([[-s+i for i in range(int(2*s+1))]]*k)\n",
    "    return np.array(list(product(*sigma)))\n",
    "\n",
    "def L(A, h,p=2):\n",
    "    E = cp.sum(\n",
    "        cp.multiply(\n",
    "            config @ A, config\n",
    "        ), axis=1\n",
    "    ) - config**p @ h\n",
    "    logZ = cp.log_sum_exp(E)\n",
    "    return cp.sum(cp.multiply(A, Ct)) + h @ m + logZ"
   ]
  },
  {
   "cell_type": "markdown",
   "metadata": {},
   "source": [
    "As a local determinstic strategy, $-E_{max}$ bounds from below the value of $L$ . Hence,$L\\geq 0$ for any local-realistic originated correlations, which in turn define a Bell's inequality (PIBI). Now, we minimize $L$ given $\\{ \\hat{\\tilde{C}},\\mathbf{m}\\}$ over $\\{ \\hat{A},\\mathbf{h}\\}$ with the following semidefinite program (SDP):\n",
    "\n",
    "$$\\min_{\\hat{A},\\mathbf{m}}L(\\hat{A},\\mathbf{m}) | A\\geq 0, A=A^T$$\n",
    "\n",
    "If $L<0$, this problem is unfeaseable because $L$ is unbounded (in particular $A\\mapsto\\lambda A \\ , \\lambda>1$ will give always a larger minimum), idem for $\\mathbf{h}$. After the regularization $||\\hat{A}||\\leq 1,||\\mathbf{h}||\\leq 1;|E_{max}|\\leq 1$, we can conclude that the given data violates the PIBI\n",
    "\n",
    "$$L(\\hat{A}_{opt},\\mathbf{h}_{opt})\\equiv \\mathcal{B}(\\hat{A}_{opt},\\mathbf{h}_{opt}) \\geq 0 \\ , $$ \n",
    "\n",
    "where $\\{\\hat{A}_{opt},\\mathbf{h}_{opt}\\}$ is a solution of the SDP including the regularization constrain. In general $-E_{max}\\geq \\mathcal{B}_{c}$, where $\\mathcal{B}_{c}$ is the classical bound, but in practice by comparing $E_{max}$ with the classical bound computed analitically, we found in most cases that $E_{max}$ is tight."
   ]
  },
  {
   "cell_type": "code",
   "execution_count": 3,
   "metadata": {},
   "outputs": [],
   "source": [
    "def PIBI(Aopt, hopt,p=2):\n",
    "    Emax = np.max(np.einsum('ij,ik,jk->i', config, config, Aopt) \n",
    "        - np.dot(config**p, hopt)\n",
    "        )\n",
    "    B = np.sum(Aopt * Ct) + np.sum(hopt * m) + Emax\n",
    "    return B, Emax\n",
    "\n",
    "def SDP(Ct, m, verbose=False,p=2):\n",
    "    #k=len(m)\n",
    "    A = cp.Variable((k,k), symmetric=True)\n",
    "    h = cp.Variable((k, ))\n",
    "    constraints = [A >> 0]\n",
    "    prob = cp.Problem(cp.Minimize(L(A, h,p=p)),constraints)\n",
    "    prob.solve()\n",
    "    if prob.value < 0:          #If L<0 we repeat the problem with the regularization\n",
    "        cutoff = 10**10   \n",
    "        if p==2:\n",
    "            constraints += [cp.norm(A,2) <=cutoff]     #operator-norm\n",
    "            constraints += [cp.max(cp.abs(h)) <=cutoff] \n",
    "        if p==1:\n",
    "            constraints += [cp.max(cp.sum(cp.multiply(config @ A, config), axis=1 ) - config @ h) <= cutoff]\n",
    "        prob = cp.Problem(cp.Minimize(L(A, h,p=p)),constraints)\n",
    "        prob.solve(max_iters = 10000)\n",
    "    normA=np.linalg.norm(A.value,2)\n",
    "    A=A.value\n",
    "    h=h.value\n",
    "    A/=normA\n",
    "    h/=normA\n",
    "    B=PIBI(A, h,p=p)\n",
    "    if verbose is True:\n",
    "        if B[0]<0: \n",
    "            print(\"Violation found\")\n",
    "            print(\"Violation:{}\".format(B[0]))\n",
    "            print(\"E_max:{}\".format(B[1])) \n",
    "            print(\"A:{}\".format(A))\n",
    "            print(\"h:{}\".format(h))\n",
    "        else:\n",
    "            print(\"No violation. Cost function:\", prob.value) \n",
    "    return B[0],A"
   ]
  },
  {
   "cell_type": "markdown",
   "metadata": {},
   "source": [
    " **Measurements.** In this work we will consider $d$-outcome measurements as $s$-dimensional representations of $su(J)$, i.e $\\mathcal{M}_a=\\mathbf{n}_a\\cdot\\mathbf{S}$, where $\\mathbf{n}_a\\in \\mathbb{S}_{J^2-2}$ is the Bloch vector and $\\mathbf{S}=\\sum_{\\mu=1}^{J^2-1}S_\\mu\\mathbf{e}_\\mu$. Where the pseudospin-$s$ operators are $\\{S_\\mu\\}_{\\mu=1,2..,J^2-1}$ fulfilling the corresponding $SU(J)$ algebra $[S_\\mu, S_\\nu]=\\sum_{\\eta=1}^{J^2-1}i\\mathcal{E}_{\\mu\\nu\\eta} S_\\eta$ and $\\{  \\mathbf{e}_\\mu\\}_{\\mu=1,2..,J^2-1}$ is an orthonormal basis of $\\mathbb{R}^{J^2-1}$. The measurements are implemented individually in each party."
   ]
  },
  {
   "cell_type": "markdown",
   "metadata": {},
   "source": [
    "## 2. Examples"
   ]
  },
  {
   "cell_type": "markdown",
   "metadata": {},
   "source": [
    "### a) Spin-singlets $p=2$"
   ]
  },
  {
   "cell_type": "markdown",
   "metadata": {},
   "source": [
    " **Spin-singlets as fully rotation-invariant states**. In general a N-partite $SU(J)$ singlet is defined as the state invariant under the action of the group, $\\langle \\mathbf{K} \\rangle= \\langle \\mathbf{K}^2 \\rangle=0  $, where $\\mathbf{K}$ are the collective Casimirs of the group. One of them is the total pseudospin $K=\\sum_{i}\\mathbf{S}^{2(i)}+2\\sum_{i\\neq j}\\mathbf{S}^{(i)}\\mathbf{S}^{(j)}$, where ${S}^2=\\sum_{\\mu=0}^{J^2}S_\\mu^2$ and $\\langle {S}^2 \\rangle=s(s+1)$. With this information we can readily obtain the correlations:\n",
    " \n",
    " $$\\tilde{C}_{ab}=C_{ab}=-\\frac{s(s+1)}{J^2-1}\\mathbf{n}_a\\cdot\\mathbf{n}_b \\ \\ , m_a=-C_{aa}$$\n",
    " \n",
    " \n",
    "In the computation, we also used the other Casimirs which ensure fully total rotational $SO(J-1)$ invariance in the Bloch sphere $\\mathbb{R}^{J^2-1}$ and $\\sum_i\\langle S_a^{(i)} S_b^{(i)} \\rangle=0 $ if $\\mathbf{n}_a\\cdot\\mathbf{n}_b=0$. Note $\\hat{\\tilde{C}}\\propto\\hat{G}$ where $\\hat{G}=\\hat{A}^T\\hat{A}$ is the Gram matrix and $\\hat{A}$ is a $J^2-1\\times k$ matrix with the ath column the coefficients of $\\mathbf{n}_a$. "
   ]
  },
  {
   "cell_type": "markdown",
   "metadata": {},
   "source": [
    "In the following, we will consider in plane measurements, so that we can parametrize them by one angle $\\mathbf{n}_a\\cdot\\mathbf{n}_b=\\cos((\\theta_a-\\theta_b)\\pi)$ with $0\\leq\\theta\\leq 1$. First we try random angles, check that for $k=3,4$ nearly for any measurement setting and spin $s=1/2,..,2$ we find violation.    "
   ]
  },
  {
   "cell_type": "code",
   "execution_count": 4,
   "metadata": {},
   "outputs": [
    {
     "name": "stdout",
     "output_type": "stream",
     "text": [
      "Violation found\n",
      "Violation:-0.025126158137251053\n",
      "E_max:0.4390025482695519\n",
      "A:[[ 4.99999791e-01  3.53553387e-01 -7.98421160e-08 -3.53553068e-01]\n",
      " [ 3.53553387e-01  4.99999996e-01  3.53553454e-01 -1.06184446e-08]\n",
      " [-7.98421160e-08  3.53553454e-01  5.00000084e-01  3.53553145e-01]\n",
      " [-3.53553068e-01 -1.06184446e-08  3.53553145e-01  4.99999881e-01]]\n",
      "h:[0.9071738  0.90717444 0.90717423 0.90717359]\n"
     ]
    }
   ],
   "source": [
    "s=3/2  #spin (level of the representation)\n",
    "j=2    # group\n",
    "k=4  #number of measurements\n",
    "\n",
    "#theta=np.concatenate(([0], np.random.rand(k-1)))  #random angles\n",
    "theta=np.array([a/k for a in range (k)])  #measurements angles\n",
    "\n",
    "config=create_configs(k,s)\n",
    "sz2=s*(s+1)/(j**2-1)\n",
    "\n",
    "Ct=np.zeros((k, k))\n",
    "m=np.ones(k)\n",
    "for a in range(k):\n",
    "    Ct[a]=-np.cos((theta[a] - theta)*np.pi)\n",
    "\n",
    "Ct=Ct*sz2\n",
    "m=m*sz2\n",
    "    \n",
    "SDP(Ct, m,verbose=True);"
   ]
  },
  {
   "cell_type": "markdown",
   "metadata": {},
   "source": [
    "In particular, for spin $s$ semi-integer and $SU(J=2)$ and measurements at angles $\\theta_a=a/k\\ , a=0,1,..,k-1$ we discover a PIBI described by $\\hat{A}=\\hat{G}$ which expands [https://arxiv.org/abs/2004.07796](https://arxiv.org/abs/2004.07796). In order to analize the results, we rewrite the PIBI as a bound on the variance of the collective spin along an arbitrary direction $\\mathbf{n}_a$. Assuming $SU(J)$ invariance \n",
    "\n",
    "$$0\\leq N\\mathrm{Var}(S_a)\\leq \\max(0,-\\mathcal{B}(\\hat{A},\\mathbf{h})/tr(\\hat{G}(\\mathbf{n})\\hat{A})) $$\n",
    "\n",
    "where $S_a=\\frac{1}{N}\\sum_iS_a^{(i)}$."
   ]
  },
  {
   "cell_type": "code",
   "execution_count": 5,
   "metadata": {},
   "outputs": [],
   "source": [
    "def VarSa(k,s,J):\n",
    "    [B,A]=SDP(Ct,m)\n",
    "    vects=np.array([[np.cos(theta[a]*np.pi) for a in range(k)],[np.sin(theta[a]*np.pi) for a in range(k)]])\n",
    "    G=np.dot(np.transpose(vects),vects)\n",
    "    VarB=-B/(np.trace(np.dot(G,A)))\n",
    "    return np.max([0,VarB])\n",
    "\n",
    "\n",
    "res=np.zeros(10)\n",
    "s=1/2\n",
    "j=2\n",
    "\n",
    "for t in range (10):\n",
    "    k=2+t\n",
    "    sz2=s*(s+1)/(j**2-1)\n",
    "    theta=np.array([a/k for a in range (k)])\n",
    "    config=create_configs(k,s)\n",
    "    Ct=np.zeros((k, k))\n",
    "    m=np.ones(k)\n",
    "    for a in range(k):\n",
    "        Ct[a]=-np.cos((theta[a] - theta)*np.pi)\n",
    "    Ct=sz2*Ct\n",
    "    m=sz2*m\n",
    "    res[t]=VarSa(k,s,j)/s    "
   ]
  },
  {
   "cell_type": "code",
   "execution_count": 6,
   "metadata": {},
   "outputs": [
    {
     "data": {
      "text/plain": [
       "Text(0.5, 1.0, '$SU(J=2)$ singlet fundamental representation $s=(J-1)/2=1/2$')"
      ]
     },
     "execution_count": 6,
     "metadata": {},
     "output_type": "execute_result"
    },
    {
     "data": {
      "image/png": "[encoded data removed]",
      "text/plain": [
       "<Figure size 432x288 with 1 Axes>"
      ]
     },
     "metadata": {
      "needs_background": "light"
     },
     "output_type": "display_data"
    }
   ],
   "source": [
    "plt.plot(res,'-o')\n",
    "plt.axhline(y=1/2-4/np.pi**2, color='black', linestyle='dashed')\n",
    "plt.xlabel(r\" $k$\")\n",
    "plt.ylabel(r\"$\\mathrm{Var}(S_a)/s$\")\n",
    "plt.title(r\"$SU(J=2)$ singlet fundamental representation $s=(J-1)/2=1/2$\")"
   ]
  },
  {
   "cell_type": "markdown",
   "metadata": {},
   "source": [
    "For this case represented in the figure, we can compute analytically the asymptoic limit $k\\rightarrow\\infty$, $\\mathrm{var}(S_a)/s\\leq 1/2-4/\\pi^2\\approx 0.095 $ (dashed line). This is useful in the realization of Bell nonlocality certification as Bell correlations using collective measurements. This bound is more restrictive than the entanglement criteria $\\mathrm{var}(S_a)/s\\leq 1/3\\approx 0.333$ from [https://arxiv.org/abs/1310.2269](https://arxiv.org/abs/1310.2269) because of device independence. \n"
   ]
  },
  {
   "cell_type": "markdown",
   "metadata": {},
   "source": [
    "For larger $J$ we observe that the porposed PIBI is no longer the optimal as in some cases the $\\mathrm{var}(S_a)$ decreseases with increasing $k$. In general, for $k\\geq 4$, one should consider the full $\\mathbb{R}^{J^2-1}$ measurement space rather than imposing the in-plane measurement constrain.    "
   ]
  },
  {
   "cell_type": "markdown",
   "metadata": {},
   "source": [
    "**Additional PIBIs.** Staying at $J=2$, for different measurements we discover different Bell inequalities which are the optimal in a nightborhood of the measurement's parameter space. For instance, for $k=3$, we obtain at least $2s$ PIBIs. This can be verified with the parametrization $\\boldsymbol{\\theta}=(-T,0,T)\\ , 0\\leq T\\leq 1/2 $.  "
   ]
  },
  {
   "cell_type": "code",
   "execution_count": 7,
   "metadata": {},
   "outputs": [
    {
     "name": "stderr",
     "output_type": "stream",
     "text": [
      "/home/guillem/anaconda3/lib/python3.7/site-packages/cvxpy/problems/problem.py:1061: UserWarning: Solution may be inaccurate. Try another solver, adjusting the solver settings, or solve with verbose=True for more information.\n",
      "  \"Solution may be inaccurate. Try another solver, \"\n"
     ]
    }
   ],
   "source": [
    "j=2\n",
    "k=3\n",
    "\n",
    "reso=10\n",
    "res=np.zeros((reso,4))\n",
    "T=np.linspace(0.01,0.49,reso)\n",
    "\n",
    "for spin in range(4):\n",
    "    s=(spin+1)/2\n",
    "    sz2=s*(s+1)/(j**2-1)\n",
    "    for t in range(reso):\n",
    "        theta=np.array([-T[t],0,T[t]])\n",
    "        config=create_configs(k,s)\n",
    "        Ct=np.zeros((k, k))\n",
    "        m=np.ones(k)\n",
    "        for a in range(k):\n",
    "            Ct[a]=-np.cos((theta[a] - theta)*np.pi)\n",
    "        Ct=sz2*Ct\n",
    "        m=sz2*m\n",
    "        res[t,spin]=VarSa(k,s,j) \n",
    "    "
   ]
  },
  {
   "cell_type": "code",
   "execution_count": 8,
   "metadata": {},
   "outputs": [
    {
     "data": {
      "image/png": "[encoded data removed]",
      "text/plain": [
       "<Figure size 432x288 with 1 Axes>"
      ]
     },
     "metadata": {
      "needs_background": "light"
     },
     "output_type": "display_data"
    }
   ],
   "source": [
    "plt.rcParams['font.size'] = '12'\n",
    "\n",
    "plt.plot(T, res[:,0],label=\"j=1/2\")\n",
    "plt.plot(T, res[:,1],label=\"j=1\")\n",
    "plt.plot(T, res[:,2],label=\"j=3/2\")\n",
    "plt.plot(T, res[:,3],label=\"j=2\")\n",
    "plt.xlabel(\"T\")\n",
    "plt.ylabel(r\"$\\langle J_x^2\\rangle/(jN)$\")\n",
    "#plt.title(\"SU(J=2)\")\n",
    "plt.legend()\n",
    "plt.savefig('fig.pdf')"
   ]
  },
  {
   "cell_type": "markdown",
   "metadata": {},
   "source": [
    "Analogouly as the last figure, for higher spin or representation number, becomes more difficult to achieve violation. For $s\\leq 2$, modulo trivial redefinition of the measurements, we find PIBIs of the form: \n",
    "\n",
    "$$\\mathbf{m}_0\\cdot\\mathbf{m}_1-a\\mathbf{m}_0\\cdot\\mathbf{m}_2+\\mathbf{m}_1\\cdot\\mathbf{m}_2+(\\mathbf{diag}(\\hat{A})+\\mathbf{h})\\mathbf{1}+C\\geq 0 \\ \\ ,a=\\frac{2s}{2f+1}\\ ,f=0,1,..,2s-1 \\ .$$\n",
    "\n",
    "where $C$ is a constant (that does not transform under rotations). The case $a=1$ correspond to the previous PIBI with $k=3$. "
   ]
  },
  {
   "cell_type": "markdown",
   "metadata": {},
   "source": [
    "### b) Spin-squeezed states $p=1$"
   ]
  },
  {
   "cell_type": "markdown",
   "metadata": {},
   "source": [
    "In this section we are going to stick with $J=2$ measurements. We consider states with some mean spin $\\langle \\mathbf{S}\\rangle\\neq 0 $. Elementary algebra then allows us to express the intput data as: \n",
    "\n",
    "$$\\tilde{C}_{ab}=\\mathrm{covar}(S_a,S_b)-\\langle \\{S_a,S_b\\} \\rangle \\ ,  \\ \\ m_a= \\mathbf{n}_a\\cdot \\langle \\mathbf{S}\\rangle \\ ,$$ \n",
    "\n",
    "where $\\mathrm{covar}(S_a, S_b)/N=\\langle S_a S_b+S_bS_a\\rangle/2-\\langle S_a\\rangle\\langle S_b\\rangle$ is the (superextensive) covariance matrix of the collective operators $S_a=\\frac{1}{N}\\sum_{i=1}^N S_a^{(i)}$ and $\\{S_a,S_b\\}=\\frac{1}{N}\\sum_{i=1}^N(S_a^{(i)}S_b^{(i)}+S_b^{(i)}S_a^{(i)})/2$, which yelds $1$ for $s=1/2$. We can diagonalize the covariance matrix. Its components are constrained due to the Heinsenberg relation $\\mathrm{var}(S_\\alpha)\\mathrm{var}(S_\\beta)\\geq | \\langle (\\mathbf{n}_\\alpha\\times\\mathbf{n}_\\beta)\\cdot\\mathbf{S}  \\rangle  |^2/4 $ which is derived from the algebra $[S_\\mu^{(i)}, S_\\nu^{(j)}]=i\\epsilon_{\\mu\\nu\\eta}S_\\eta^{(i)}\\delta_{ij}$. If a component is below the standard quantum limit, $\\mathrm{var}(S_\\alpha)<| \\langle (\\mathbf{n}_\\alpha\\times\\mathbf{n}_\\beta)\\cdot\\mathbf{S}  \\rangle |/2$ we say that it is squeezed respect the conjugated component $\\mathrm{var}(S_\\beta)$ (Ueda).We rescale the parameters to the spin coherent value $\\chi^2=\\mathrm{var}(S_a)/s^2$ and $r=| \\langle (\\mathbf{n}_\\alpha\\times\\mathbf{n}_\\beta)\\cdot\\mathbf{S}  \\rangle |/s$ so as $\\chi^2<|r|/(2s)$"
   ]
  },
  {
   "cell_type": "markdown",
   "metadata": {},
   "source": [
    "**Recovering Tura et al. inequality** [https://arxiv.org/abs/1306.6860](https://arxiv.org/abs/1306.6860). In this work we have shown that our alogirthm is able to recover all known PIBIs that can be robustly violated in the thermodynamic limit. Among them the $k=2$ Tura et al. PIBI which can be obtained by measuring a spin-1/2 squeezed state in a plane containing the mean spin. Conventionally we choose the plane $xy$ with the mean spin $\\mathbf{r}$ along the $\\mathbf{x}$ direction. The corresponding measurments are parametrized via the angle $\\theta\\in[0,2\\pi)$ as $\\{\\mathcal{M}_{0/1}=\\cos\\theta S_x\\pm\\sin\\theta S_y \\}$. Consequently, the correlations read: \n",
    "\n",
    "$$ \\hat{\\tilde{C}}=\\frac{1}{4}\\begin{pmatrix} \\chi^2\\sin^2\\theta-1 & -\\chi^2\\sin^2\\theta-\\cos2\\theta  \\\\ -\\chi^2\\sin^2\\theta-\\cos2\\theta  & \\chi^2\\sin^2\\theta-1  \\end{pmatrix} \\ , \\mathbf{m}=\\frac{1}{2}r\\cos\\theta \\begin{pmatrix} 1 \\\\ 1  \\end{pmatrix} \\ ,$$ \n",
    "\n",
    "where $r=2\\langle S_x\\rangle$ is the mean spin and $\\chi^2=4\\mathrm{var}(S_y)$. With this notation, the Wineland spin squeezing criteria is $\\chi^2<r^2$ [https://journals.aps.org/pra/abstract/10.1103/PhysRevA.46.R6797](https://journals.aps.org/pra/abstract/10.1103/PhysRevA.46.R6797), which is stricter that the Ueda's spin-squeezing condition and equivalent for $r=1$ (spin coherent state). In fact, this crieria is a multipartite entanglement witness  [https://arxiv.org/abs/quant-ph/0006111](https://arxiv.org/abs/quant-ph/0006111)."
   ]
  },
  {
   "cell_type": "code",
   "execution_count": 9,
   "metadata": {},
   "outputs": [
    {
     "name": "stdout",
     "output_type": "stream",
     "text": [
      "Violation found\n",
      "Violation:-0.028903846167901648\n",
      "E_max:0.5000000000197969\n",
      "A:[[ 0.5 -0.5]\n",
      " [-0.5  0.5]]\n",
      "h:[-0.5 -0.5]\n"
     ]
    }
   ],
   "source": [
    "#Quantum data (Schmied et al. 2016)\n",
    "\n",
    "chi=np.sqrt(0.272)  \n",
    "r=0.98\n",
    "\n",
    "theta=np.arccos(r/(2*(1-chi**2)))  #Actually optimal angle \n",
    "Ct=np.array([[chi**2*np.sin(theta)**2-1, -chi**2*np.sin(theta)**2-np.cos(2*theta)],[-chi**2*np.sin(theta)**2-np.cos(2*theta),chi**2*np.sin(theta)**2-1]])/4\n",
    "m=r*np.cos(theta)*np.array([1,1])/2\n",
    "\n",
    "#Run the algorithm with 'p=1'\n",
    "\n",
    "s=1/2\n",
    "k=2\n",
    "\n",
    "config=create_configs(k,s)\n",
    "SDP(Ct, m,verbose=True,p=1);"
   ]
  },
  {
   "cell_type": "markdown",
   "metadata": {},
   "source": [
    "Violation of Tura et al. $1-\\frac{\\mathcal{B}_c}{\\mathcal{B}}$. Negative values indicate violation. "
   ]
  },
  {
   "cell_type": "code",
   "execution_count": 10,
   "metadata": {},
   "outputs": [],
   "source": [
    "def violation_Tura_et_al(mx, vy):\n",
    "    def func_ratio_C_Q(theta):   \n",
    "        return -4 / (\n",
    "        vy * (2 * np.sin(theta))**2 - 4 * mx * np.cos(theta) \n",
    "        - 2 + 2 * np.cos(2 * theta)\n",
    "        )\n",
    "    res = minimize(func_ratio_C_Q, x0=0.3)\n",
    "    return 1 - res.fun"
   ]
  },
  {
   "cell_type": "markdown",
   "metadata": {},
   "source": [
    "**Tilde versus non-tilde PIBI**. Now that we have introduced finite mean spin, our inequalities will be nonlinear in the probabilities due to the term $\\mathbf{m}\\otimes\\mathbf{m}$ of $\\hat{\\tilde{C}}$. In the following we compare this type of PIBIs with the conventional ones defined from $\\hat{C}$. The procedure basically is: "
   ]
  },
  {
   "cell_type": "code",
   "execution_count": 11,
   "metadata": {},
   "outputs": [],
   "source": [
    "n = 10  #number of parties "
   ]
  },
  {
   "cell_type": "markdown",
   "metadata": {},
   "source": [
    "1. Local deterministic strategy: generate all vertices of the reduced polytope (after PI) in our convention (outcomes $\\pm 1/2$) as set of points p in an affine space $\\mathbb{R}^5$ expressed as $[m_0, m_1, C_{00}, C_{01}=C_{10}, C_{11}]$."
   ]
  },
  {
   "cell_type": "code",
   "execution_count": 12,
   "metadata": {},
   "outputs": [],
   "source": [
    "listVertices = np.empty((0, 5))\n",
    "\n",
    "for a in range(0,n+1):\n",
    "    for b in range(0,n+1):\n",
    "        for c in range(0,n+1):\n",
    "            d=n-a-b-c\n",
    "            if a*b*c*d==0 and d>=0:\n",
    "                n = a+b+c+d\n",
    "                s0 = a+b-c-d\n",
    "                s1 = a-b+c-d\n",
    "                z = a-b-c+d\n",
    "                s00 = s0*s0-n\n",
    "                s01 = s0*s1-z\n",
    "                s11 = s1*s1-n\n",
    "                listVertices = np.concatenate([listVertices,[[s0/2,s1/2,s00/4,s01/4,s11/4]]])       \n",
    "n_vert=np.shape(listVertices)[0] "
   ]
  },
  {
   "cell_type": "markdown",
   "metadata": {},
   "source": [
    "2. Center the points around the mean $\\mathbf{p}\\rightarrow\\mathbf{p}-\\overline{\\mathbf{p}}$. The mean is the sum of all vertices divided by the number of vertices. "
   ]
  },
  {
   "cell_type": "code",
   "execution_count": 13,
   "metadata": {},
   "outputs": [],
   "source": [
    "vMix=sum(listVertices)/n_vert  \n",
    "listVertices=listVertices-np.array([vMix]*n_vert)  #Center around maximally mixed point\n",
    "ext_coord=int(np.max(listVertices))"
   ]
  },
  {
   "cell_type": "markdown",
   "metadata": {},
   "source": [
    "3. Choose two random orthonormal vectors of $\\mathbb{R}^5$, $\\mathbf{x}$ and $\\mathbf{y}$"
   ]
  },
  {
   "cell_type": "code",
   "execution_count": 14,
   "metadata": {},
   "outputs": [],
   "source": [
    "vects=ortho_group.rvs(5)\n",
    "ran=random.sample(range(5),2)\n",
    "Proj0=vects[ran[0]]\n",
    "Proj1=vects[ran[1]]"
   ]
  },
  {
   "cell_type": "markdown",
   "metadata": {},
   "source": [
    "4. Construct $\\mathbf{r}=r\\cos(\\theta)\\mathbf{x}+r\\sin(\\theta)\\mathbf{y}$. For each $\\theta$, increase $r$ until $r$ is outside the polytope and assign $r=r(\\theta)$ using Dalunay triangulation.(Alternatively, it can be done studying the feasibility of the linear program for $r$ to be expressed as convex combination of vertices).By computing the convex hull of the list of vertices which will be the polytope itself. At the end we have the set of points $(r(\\theta)cos(\\theta), r(\\theta)sin(\\theta))=(x,y)$, which define the slice of the polytope in the given plane. "
   ]
  },
  {
   "cell_type": "code",
   "execution_count": 15,
   "metadata": {},
   "outputs": [],
   "source": [
    "hull = Delaunay(listVertices)\n",
    "\n",
    "\n",
    "Reso=300  #resolution\n",
    "Angles=np.linspace(0, 2*np.pi, Reso)\n",
    "Rco=np.linspace(0, ext_coord, Reso)\n",
    "\n",
    "PolX=[]\n",
    "PolY=[]\n",
    "\n",
    "for i in range(Reso):\n",
    "    for j in range(Reso):\n",
    "        v=Rco[j]*(np.cos(Angles[i])*Proj0+np.sin(Angles[i])*Proj1)\n",
    "        Feas=hull.find_simplex(v)\n",
    "        if Feas<0:\n",
    "            PolX=np.append(Rco[j-1]*np.cos(Angles[i-1]),PolX)\n",
    "            PolY=np.append(Rco[j-1]*np.sin(Angles[i-1]),PolY)\n",
    "            break\n",
    "\n",
    "L=np.min(PolX) \n",
    "R=np.max(PolX)"
   ]
  },
  {
   "cell_type": "markdown",
   "metadata": {},
   "source": [
    "5. We further compute the convex hull of the 2D points $(x,y)$ to eliminate errors which make the contour not look convex. For example, due to the sampling, if the facet and the slice are quite parallel, r(theta) may oscillate between two values for some neighbourhood. This contour is the one that will be plotted and is slightly bigger than the real boundary."
   ]
  },
  {
   "cell_type": "code",
   "execution_count": 16,
   "metadata": {},
   "outputs": [],
   "source": [
    "PP=np.array([[PolX[i], PolY[i]] for i in range(len(PolX))])\n",
    "hull2D=ConvexHull(PP)"
   ]
  },
  {
   "cell_type": "markdown",
   "metadata": {},
   "source": [
    "6. PIBIs: for the non-tilde we have $\\mathcal{B}(x,y)=\\mathbf{T}\\cdot \\mathbf{p}+n$, where $\\mathbf{T}=(-1,-1,1,-2,1)^t$ and for the tilde we must add the nonlinear term $-(\\mathbf{N}\\cdot\\mathbf{p})^2$, where $\\textbf{N}=(1,-1,0,0,0)^t$. In the figures we plot the curves $B(x,y)=0$, a straight line for the first and a parabola for the latter. "
   ]
  },
  {
   "cell_type": "code",
   "execution_count": 17,
   "metadata": {},
   "outputs": [],
   "source": [
    "turavect=np.array([-2, -2, 2, -4, 2])   #+2n\n",
    "tildevect=np.array([np.sqrt(2), -np.sqrt(2),0, 0, 0])\n",
    "#x=np.array([i for i in range(2*int(L), 2*int(R))])\n",
    "x=np.linspace(2*L, 2*R,Reso)\n",
    "\n",
    "yTura=np.array([(-np.dot(turavect,Proj0)*x[i]-2*n-np.dot(turavect,vMix))/np.dot(turavect,Proj1) for i in range(Reso)])\n",
    "\n",
    "def Z(x):   \n",
    "  a=-np.dot(tildevect,Proj1)**2\n",
    "  b=np.dot(turavect, Proj1)-2*np.dot(tildevect,Proj1)*np.dot(tildevect,Proj0)*(x) \n",
    "  c=np.dot(turavect, Proj0)*x+2*n+np.dot(turavect,vMix)-(np.dot(tildevect,Proj0)*x)**2\n",
    "  return np.array([(-b+np.sqrt(b**2-4*a*c))/(2*a),(-b-np.sqrt(b**2-4*a*c))/(2*a)])\n",
    "\n",
    "\n",
    "yTildePl=np.array([Z(x[i])[0] for i in range(Reso)])\n",
    "yTildeMi=np.array([Z(x[i])[1] for i in range(Reso)])\n"
   ]
  },
  {
   "cell_type": "code",
   "execution_count": 18,
   "metadata": {},
   "outputs": [
    {
     "data": {
      "text/plain": [
       "<matplotlib.legend.Legend at 0x7fd7f7fb50d0>"
      ]
     },
     "execution_count": 18,
     "metadata": {},
     "output_type": "execute_result"
    },
    {
     "data": {
      "image/png": "[encoded data removed]",
      "text/plain": [
       "<Figure size 432x288 with 1 Axes>"
      ]
     },
     "metadata": {
      "needs_background": "light"
     },
     "output_type": "display_data"
    }
   ],
   "source": [
    "for simplex in hull2D.simplices:\n",
    "    plt.plot(PP[simplex, 0], PP[simplex, 1], 'k-')\n",
    "plt.rcParams['font.size'] = '12'\n",
    "plt.plot(x,yTura, linestyle='dashed',label=r'$\\langle \\mathcal{B}\\rangle (C, \\mathbf{h})=0 $' )\n",
    "plt.plot(x, yTildePl,color='r', label=r'$\\langle \\mathcal{B}\\rangle (\\tilde{C}, \\mathbf{h})=0 $')\n",
    "plt.plot(x, yTildeMi,color='r')\n",
    "plt.xlabel(r'x')\n",
    "plt.ylabel(r'y')\n",
    "plt.annotate(r'$\\mathbb{P}_L$', xy=(0, 0),size='20')\n",
    "plt.legend()"
   ]
  },
  {
   "cell_type": "markdown",
   "metadata": {},
   "source": [
    "In the plot we verify that in general the tilde inequality is better than the non-tilde in the sense that is captable to produce violation for a larger region of the correlation space. Indeed, in most of the cases we observe that it wraps tighly around the local polytope.    "
   ]
  },
  {
   "cell_type": "markdown",
   "metadata": {},
   "source": [
    "**Improving Tura et al. 2-outcome PIBI**. We can improve the Tura et al. inequality by adding an extra measurement in the $\\mathbf{y}$ direction which leads to the discovery of the new PIBI defined in terms of its coefficents: \n",
    "\n",
    "$$\\hat{A}=\\begin{pmatrix} 1 & -1 & a \\\\ -1& 1&-a\\\\ a &-a & a^2   \\end{pmatrix} \\ , \\mathbf{h}=-\\begin{pmatrix} 1+a \\\\1+a\\\\0   \\end{pmatrix} \\ ,$$\n",
    "\n",
    "with $\\mathcal{B}_{class}=-(1+a/2)^2$.For $a=0$ it is equivalent to the Tura et al. PIBI. In order to optimize $a$, for each value of $(m_x, \\mathrm{var}(S_y))$, we maximize the violation.  "
   ]
  },
  {
   "cell_type": "code",
   "execution_count": 19,
   "metadata": {},
   "outputs": [],
   "source": [
    "def violation_new_PIBI(mx, vy):\n",
    "    def func_ratio_C_Q(x):\n",
    "        a, theta = x\n",
    "        return -(2 + a)**2 / (\n",
    "        vy * (a + 2 * np.sin(theta))**2 - 4 * mx * (1 + a) * np.cos(theta) \n",
    "        - 2 - a**2 + 2 * np.cos(2 * theta) - 4 * a * np.sin(theta)\n",
    "        )\n",
    "    res = minimize(func_ratio_C_Q, x0=(1, 0.3))\n",
    "    return 1 - res.fun"
   ]
  },
  {
   "cell_type": "markdown",
   "metadata": {},
   "source": [
    "We compare the new PIBI found with Tura et al.'s in the $(r,\\chi^2)$ space"
   ]
  },
  {
   "cell_type": "code",
   "execution_count": 20,
   "metadata": {},
   "outputs": [],
   "source": [
    "def func_xiR2(mx, vy):\n",
    "    \"\"\"squeezing parameter\"\"\"\n",
    "    return vy / mx**2\n",
    "\n",
    "list_mx = np.concatenate(\n",
    "    (np.linspace(0.8, 0.98, 100), np.linspace(0.98, 1, 100)\n",
    "     ))\n",
    "v_tura = np.zeros_like(list_mx)\n",
    "v_new = np.zeros_like(list_mx)\n",
    "v_xiR2 = list_mx**2\n",
    "\n",
    "for i, mx in enumerate(list_mx):\n",
    "   def func_new(vy):\n",
    "       return violation_new_PIBI(mx, vy)\n",
    "   res = root_scalar(func_new, bracket=[0, 1])\n",
    "   v_new[i] = res.root\n",
    "   \n",
    "   def func_tura(vy):\n",
    "       return violation_Tura_et_al(mx, vy)\n",
    "   res = root_scalar(func_tura, bracket=[0, 1])\n",
    "   v_tura[i] = res.root"
   ]
  },
  {
   "cell_type": "code",
   "execution_count": 21,
   "metadata": {},
   "outputs": [
    {
     "data": {
      "image/png": "[encoded data removed]",
      "text/plain": [
       "<Figure size 432x288 with 1 Axes>"
      ]
     },
     "metadata": {
      "needs_background": "light"
     },
     "output_type": "display_data"
    }
   ],
   "source": [
    "plt.plot(list_mx, v_xiR2, 'k--', label=\"Wineland spin squeezing\")\n",
    "plt.plot(list_mx, v_new, 'C1-', label=r'$k=3$ New PIBI')\n",
    "plt.plot(list_mx, v_tura, 'C0--', label=r'$k=2$ Tura et al.')\n",
    "plt.ylim(0, 1)\n",
    "plt.legend(fontsize=12)\n",
    "plt.xlabel(r\"$r $\", fontsize=15)\n",
    "plt.ylabel(r\"$\\chi^2$\", fontsize=15)\n",
    "plt.tick_params(labelsize=15)"
   ]
  },
  {
   "cell_type": "markdown",
   "metadata": {},
   "source": [
    "In the figure, entanglement can be certified for correlations lying below the line. We observe that our new $k=3$ PIBI is less restrictive that Tura et al. and easier to violate from an experimental point of view."
   ]
  },
  {
   "cell_type": "markdown",
   "metadata": {},
   "source": [
    "**PIBIs tailored to spin-squeezed states of arbitrary spin**. Finally, for $k=2$ measurement settings, we obtained a PIBI tailored to spin-s many-body squeezed state by considering both linear and quadratic averaged one-body statistics\n",
    "\n",
    "$$ \\mathcal{B}=tr(\\hat{A}_{opt}\\hat{\\tilde{C}})+\\mathbf{h}^{(1)}_{opt}\\cdot \\mathbf{m}^{(1)}+\\mathbf{h}^{(2)}_{opt}\\cdot\\mathbf{m}^{(2)}-\\mathcal{B}_{class}\\geq0 \\ , $$.\n",
    "\n",
    "where $\\mathbf{m}_a^{(1)}=\\frac{1}{N}\\sum_{i=1}^N\\langle S^{(i)}_a \\rangle $ is the linear term used in the present notebook when considering spin-1/2 squeezed correlations ($p=1$). In this case we took into account the quadratic one-body term $\\mathbf{m}_a^{(2)}=\\frac{1}{N}\\sum_{i=1}^N\\langle S^{2(i)}_a \\rangle$ instead ($p=2$)."
   ]
  }
 ],
 "metadata": {
  "kernelspec": {
   "display_name": "Python 3",
   "language": "python",
   "name": "python3"
  },
  "language_info": {
   "codemirror_mode": {
    "name": "ipython",
    "version": 3
   },
   "file_extension": ".py",
   "mimetype": "text/x-python",
   "name": "python",
   "nbconvert_exporter": "python",
   "pygments_lexer": "ipython3",
   "version": "3.7.9"
  }
 },
 "nbformat": 4,
 "nbformat_minor": 4
}
